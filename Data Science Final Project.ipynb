{
  "metadata": {
    "kernelspec": {
      "name": "python",
      "display_name": "Python (Pyodide)",
      "language": "python"
    },
    "language_info": {
      "codemirror_mode": {
        "name": "python",
        "version": 3
      },
      "file_extension": ".py",
      "mimetype": "text/x-python",
      "name": "python",
      "nbconvert_exporter": "python",
      "pygments_lexer": "ipython3",
      "version": "3.8"
    }
  },
  "nbformat_minor": 4,
  "nbformat": 4,
  "cells": [
    {
      "cell_type": "markdown",
      "source": "# Data Science Final Project",
      "metadata": {}
    },
    {
      "cell_type": "markdown",
      "source": "## Introduction\nThis notebook contains the final project for the Data Science course. It includes exercises that demonstrate essential data science concepts, tools, and computations.",
      "metadata": {}
    },
    {
      "cell_type": "markdown",
      "source": "## Data Science Languages\n1. Python\n2. R\n3. SQL\n4. Java\n5. Julia",
      "metadata": {}
    },
    {
      "cell_type": "markdown",
      "source": "## Data Science Libraries\n1. Pandas\n2. NumPy\n3. Scikit-learn\n4. TensorFlow\n5. Keras\n6. ggplot2",
      "metadata": {}
    },
    {
      "cell_type": "markdown",
      "source": "## Data Science Tools\n| Tool          | Purpose                      |\n|--------------|----------------------------|\n| JupyterLab   | Interactive computing      |\n| RStudio      | Statistical computing      |\n| Apache Spark | Big data processing        |\n| TensorFlow   | Machine learning           |\n| Tableau      | Data visualization         |\n\"\"\"",
      "metadata": {}
    },
    {
      "cell_type": "markdown",
      "source": "## Arithmetic Expression Examples\nThis section demonstrates basic arithmetic operations such as addition, multiplication, and division.",
      "metadata": {}
    },
    {
      "cell_type": "code",
      "source": "x = 5\ny = 10\nresult = (x * y) + 20\nprint(\"The result is:\", result)",
      "metadata": {
        "trusted": true
      },
      "outputs": [
        {
          "name": "stdout",
          "text": "The result is: 70\n",
          "output_type": "stream"
        }
      ],
      "execution_count": 6
    },
    {
      "cell_type": "code",
      "source": "minutes = 120\nhours = minutes / 60\nprint(\"Hours:\", hours)",
      "metadata": {
        "trusted": true
      },
      "outputs": [
        {
          "name": "stdout",
          "text": "Hours: 2.0\n",
          "output_type": "stream"
        }
      ],
      "execution_count": 7
    },
    {
      "cell_type": "markdown",
      "source": "## Objectives\n- Learn about data science languages\n- Explore commonly used libraries\n- Understand essential data science tools\n- Perform basic arithmetic operations in Python\n- Work with JupyterLite Notebook",
      "metadata": {}
    },
    {
      "cell_type": "markdown",
      "source": "## Author\nSiddik Fakhriddinov",
      "metadata": {}
    }
  ]
}